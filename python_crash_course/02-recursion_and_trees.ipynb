{
 "cells": [
  {
   "cell_type": "markdown",
   "metadata": {},
   "source": [
    "# Recursion, Object-oriented programming and trees in python"
   ]
  },
  {
   "cell_type": "code",
   "execution_count": null,
   "metadata": {},
   "outputs": [],
   "source": [
    "import numpy as np\n",
    "from typing import List\n",
    "from random import randint"
   ]
  },
  {
   "cell_type": "markdown",
   "metadata": {},
   "source": [
    "## Recursion\n",
    "\n",
    "[Recursion (computer science) - Wikipedia](https://en.wikipedia.org/wiki/Recursion_(computer_science)):\n",
    "\n",
    "> In computer science, recursion is a method of solving a computational problem where the solution depends on solutions to smaller instances of the same problem. Recursion solves such recursive problems by using functions that call themselves from within their own code.\n",
    "\n",
    "### Defining recursive functions in python\n",
    "\n",
    "1. Take a look at the function ```sum_list``` and try to understand how recursion works\n",
    "2. Define a function ```sum_list``` that finds the max element in a list recursively\n",
    "3. Define a function ```n_occ``` that counts the number of vowels in a string recursively"
   ]
  },
  {
   "cell_type": "code",
   "execution_count": null,
   "metadata": {},
   "outputs": [],
   "source": [
    "def sum_list(l: List):\n",
    "    \"\"\"Compute sum(l) recursively\"\"\"\n",
    "    # ------- base cases -------\n",
    "    if l == []:\n",
    "        return 0\n",
    "    # ------- general case -------\n",
    "    else:\n",
    "        return l[0] + sum_list(l[1:])\n",
    "\n",
    "def max_list(l: List):\n",
    "    \"\"\"Compute max(l) recursively\"\"\"\n",
    "    #TODO\n",
    "    return None\n",
    "\n",
    "VOWELS = [\"a\", \"e\", \"i\", \"o\", \"u\", \"y\"]\n",
    "VOWELS += [v.upper() for v in VOWELS]\n",
    "\n",
    "def n_occ(s: str, targets: List = VOWELS) -> int:\n",
    "    \"\"\"Count occurences of targets in s recursively\"\"\"\n",
    "    #TODO\n",
    "    return None"
   ]
  },
  {
   "cell_type": "markdown",
   "metadata": {},
   "source": [
    "### Test your code\n",
    "\n",
    "When testing recursive functions, it is important to test both some general cases and base cases."
   ]
  },
  {
   "cell_type": "code",
   "execution_count": null,
   "metadata": {},
   "outputs": [],
   "source": [
    "l1 = [randint(-10, 10) for _ in range(20)]\n",
    "sum_exp =  sum(l1)\n",
    "max_exp = max(l1)\n",
    "\n",
    "print(\"sum_list\")\n",
    "print(\"Expected \", 0, \", Got: \", sum_list([]))\n",
    "print(\"Expected \", sum_exp, \", Got: \", sum_list(l1))\n",
    "print(\"max_list\")\n",
    "print(\"Expected \", np.nan, \", Got: \", max_list([]))\n",
    "print(\"Expected \", max_exp, \", Got: \", max_list(l1))\n",
    "\n",
    "s1 = \"Welcome to INF264\"\n",
    "targets = VOWELS\n",
    "count_exp = sum([1 if c in targets else 0 for c in s1 ])\n",
    "\n",
    "print(\"n_occ\")\n",
    "print(\"Expected \", 0, \", Got: \", n_occ(\"\", targets))\n",
    "print(\"Expected \", count_exp, \", Got: \", n_occ(s1, targets))"
   ]
  },
  {
   "cell_type": "markdown",
   "metadata": {},
   "source": [
    "## Object-oriented programming (OPP)\n",
    "\n",
    "[Object-oriented programming - Wikipedia](https://en.wikipedia.org/wiki/Object-oriented_programming):\n",
    "\n",
    "> Object-oriented programming (OOP) is a programming paradigm based on the concept of objects, which can contain data and code: data in the form of fields (often known as attributes or properties), and code in the form of procedures (often known as methods).\n",
    "\n",
    "In the cell below, we give you a quick example of how we can define a class in python, and use it to create instances (objects) of this class.\n",
    "\n",
    "Read the code and run the cell before moving on to the next exercise."
   ]
  },
  {
   "cell_type": "code",
   "execution_count": null,
   "metadata": {},
   "outputs": [],
   "source": [
    "class MyClass():\n",
    "\n",
    "    def __init__(self, attr1, attr2):\n",
    "        # This creates an attribute called \"myAttribute1\" with value `attr1`\n",
    "        self.myAttribute1 = attr1\n",
    "        # This creates another attribute \"myAttribute2\" with value `attr2`\n",
    "        self.myAttribute2 = attr2\n",
    "\n",
    "\n",
    "    def myMethod(self, param1):\n",
    "        # Here we have access to attributes even though they are not\n",
    "        # explicitly in the list of parameters. This is thanks to the\n",
    "        # self parameter\n",
    "        print(self.myAttribute2)\n",
    "        # Otherwise a method works exactly like a function and can return values\n",
    "        return param1 + self.myAttribute1\n",
    "\n",
    "# This implicitly calls the __init__ method, creating an instance of the class\n",
    "# And the self parameter is removed\n",
    "# myObj is the instance and MyClass is the class\n",
    "myObj = MyClass(42, 'Hello')\n",
    "\n",
    "# We have now an instance of the class MyClass and we can access its attributes\n",
    "print(myObj.myAttribute2)\n",
    "# We can also update attributes\n",
    "myObj.myAttribute2 = 'This is how we update attributes'\n",
    "print(myObj.myAttribute2)\n",
    "\n",
    "# This is how you call a method of a class\n",
    "res = myObj.myMethod(10)\n",
    "print(res)"
   ]
  },
  {
   "cell_type": "markdown",
   "metadata": {},
   "source": [
    "## Trees and OOP\n",
    "\n",
    "We would like to define a recursive python ```Tree``` class that could build the following structure:\n",
    "\n",
    "```\n",
    "Root\n",
    "|\n",
    "|___T1\n",
    "|   |___T1T1\n",
    "|   |___T1T2\n",
    "|   |___T1T3\n",
    "|   |___T1T4\n",
    "|\n",
    "|___T2\n",
    "|\n",
    "|___T3\n",
    "    |___T3T1\n",
    "```\n",
    "\n",
    "Here we see an example of a Tree such that:\n",
    "- ```Root``` is an instance of the Tree class representing the root with 3 branches (sub-trees) ```T1```, ```T2```, ```T3```, all instances of the Tree class.\n",
    "- ```T1``` is an instance of the Tree class with 4 branches ```T1T2```, ```T1T2```, ```T1T3```, ```T1T4```, again all instances of the Tree class. The root of ```T1``` is ```Root```. and the root of ```T1T2```, ```T1T3```, ```T1T4``` is ```T1```\n",
    "- ```T2``` is an instance of the Tree class with no branch. Its root is also ```Root```\n",
    "- ```Root``` has no root.\n",
    "- etc.\n",
    "- If built correctly, the information of the entire tree is accessible starting from any of the subtrees (and of course in particular, starting from ```Root```), by following their roots and their branches.\n",
    "\n",
    "### Defining a Tree class\n",
    "\n",
    "Define a ```Tree``` class in python containing:\n",
    "- 3 attributes:\n",
    "  - ```root``` , a Tree instance, indicating where the current branch comes from\n",
    "  - ```label``` an integer, representing some arbitrary information\n",
    "  - ```branches``` a list of Tree instances, listing all the branches whose root is the current branch\n",
    "- 3 methods:\n",
    "  - ```add_branch```, Add a direct branch \n",
    "  - ```count_branches```\n",
    "  - ```sum_labels```"
   ]
  },
  {
   "cell_type": "code",
   "execution_count": null,
   "metadata": {},
   "outputs": [],
   "source": [
    "class Tree:\n",
    "\n",
    "    def __init__(self, label: int = None, root=None, branches: List = []):\n",
    "        \"\"\"A Tree has 1 root or *is* the root and has arbitrary many branches\"\"\"\n",
    "        # If root is None, then the current Tree is a root,\n",
    "        # otherwise it is a subtree whose root is root.\n",
    "        self.root = root\n",
    "        # If no label is given, get a random int between 0 and 100\n",
    "        if label is None:\n",
    "            self.label = randint(0, 100)\n",
    "        else:\n",
    "            self.label = label\n",
    "        # A tree can have arbitrary many branches (subtrees)\n",
    "        # WARNING: If you don't *copy* the list you might have problem later on\n",
    "        self.branches = branches.copy()\n",
    "\n",
    "    def add_branch(self, branch):\n",
    "        \"\"\"Add a branch to the Tree\"\"\"\n",
    "        # Update the root of the new branch\n",
    "        # TODO\n",
    "        # Update the branches of the current tree (self)\n",
    "        # TODO\n",
    "\n",
    "    def count_branches(self):\n",
    "        \"\"\"Count the total number of branch coming from our Tree\"\"\"\n",
    "        # TODO\n",
    "\n",
    "    def sum_labels(self):\n",
    "        \"\"\"Compute the sum of labels in the Tree\"\"\"\n",
    "        # TODO\n"
   ]
  },
  {
   "cell_type": "markdown",
   "metadata": {},
   "source": [
    "### Defining a Tree composed of instances of the Tree class\n",
    "\n",
    "In the cell below we build the example of tree mentioned above, with iterative labels"
   ]
  },
  {
   "cell_type": "code",
   "execution_count": null,
   "metadata": {},
   "outputs": [],
   "source": [
    "# Define number of children and grandchildren\n",
    "n_children = 3\n",
    "n_grandchildren = [4, 0, 1]\n",
    "n_branches = n_children + sum(n_grandchildren)\n",
    "labels = [i for i in range(n_branches+1)] # +1 for the root\n",
    "sum_labels = sum(labels)\n",
    "\n",
    "# Initialize root\n",
    "tree = Tree(labels.pop())\n",
    "\n",
    "# 1st layer of branches, with 3 branches\n",
    "[tree.add_branch(Tree(labels.pop())) for _ in range(n_children)]\n",
    "\n",
    "# 2nd layer, each of the 3 branches gets respectively [4, 0, 1] branches\n",
    "_ = [\n",
    "    [\n",
    "        tree.branches[i].add_branch(Tree(labels.pop())) for _ in range(n_grandchildren[i])\n",
    "    ] for i in range(n_children)\n",
    "]"
   ]
  },
  {
   "cell_type": "markdown",
   "metadata": {},
   "source": [
    "### Test your code"
   ]
  },
  {
   "cell_type": "code",
   "execution_count": null,
   "metadata": {},
   "outputs": [],
   "source": [
    "print(\"Total branches expected: \", n_branches , \" Got: \", tree.count_branches())\n",
    "print(\"Sum labels expected: \", sum_labels, \" Got: \", tree.sum_labels())"
   ]
  }
 ],
 "metadata": {
  "kernelspec": {
   "display_name": "Python 3.8.13 ('nglm-env')",
   "language": "python",
   "name": "python3"
  },
  "language_info": {
   "codemirror_mode": {
    "name": "ipython",
    "version": 3
   },
   "file_extension": ".py",
   "mimetype": "text/x-python",
   "name": "python",
   "nbconvert_exporter": "python",
   "pygments_lexer": "ipython3",
   "version": "3.8.13"
  },
  "orig_nbformat": 4,
  "vscode": {
   "interpreter": {
    "hash": "71c2cb666ff353b4e7b5c350d66179fa0af5c84ce239ad9fa105d94543f3ad59"
   }
  }
 },
 "nbformat": 4,
 "nbformat_minor": 2
}
